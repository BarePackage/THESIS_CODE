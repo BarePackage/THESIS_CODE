{
 "cells": [
  {
   "cell_type": "code",
   "outputs": [],
   "source": [
    "import pandas as pd\n",
    "import numpy as np\n",
    "\n",
    "import os\n",
    "import matplotlib.pyplot as plt"
   ],
   "metadata": {
    "collapsed": false,
    "ExecuteTime": {
     "end_time": "2024-04-10T06:29:49.928459700Z",
     "start_time": "2024-04-10T06:29:41.736181200Z"
    }
   },
   "id": "7ac2ec8d873c2c39",
   "execution_count": 1
  },
  {
   "cell_type": "code",
   "outputs": [],
   "source": [
    "def plotting(Sector):\n",
    "    #plots the whole industry dataset\n",
    "    industries = Sector['industry'].unique()\n",
    "    \n",
    "    # Setting up the figure for multiple plots\n",
    "    num_industries = len(industries)\n",
    "    fig, axes = plt.subplots(nrows=num_industries, ncols=2, figsize=(15, 5 * num_industries))\n",
    "    \n",
    "    # Plotting each industry separately\n",
    "    for i, industry in enumerate(industries):\n",
    "        industry_data = Sector[Sector['industry'] == industry]\n",
    "        \n",
    "        # Grouping by Year for sum of delivered and op_stock\n",
    "        grouped_delivered = industry_data.groupby('Year')['delivered'].sum()\n",
    "        grouped_op_stock = industry_data.groupby('Year')['op_stock'].sum()\n",
    "    \n",
    "        # Plotting\n",
    "        grouped_delivered.plot(kind='bar', ax=axes[i, 0], title=f'{industry} - Delivered by Year')\n",
    "        grouped_op_stock.plot(kind='bar', ax=axes[i, 1], title=f'{industry} - Operating Stock by Year')\n",
    "    \n",
    "    # Adjusting layout\n",
    "    plt.tight_layout()\n",
    "    \n",
    "    # Showing the plots\n",
    "    plt.show()"
   ],
   "metadata": {
    "collapsed": true
   },
   "id": "initial_id",
   "execution_count": 0
  },
  {
   "cell_type": "code",
   "outputs": [],
   "source": [
    "def specificCountry(Sector, country):\n",
    "    #plots the sectors for a given country\n",
    "    df = Sector[Sector['country'] == country]\n",
    "    industries = df['industry'].unique()\n",
    "    \n",
    "    # Setting up the figure for multiple plots\n",
    "    num_industries = len(industries)\n",
    "    fig, axes = plt.subplots(nrows=num_industries, ncols=2, figsize=(15, 5 * num_industries))\n",
    "    \n",
    "    # Plotting each industry separately\n",
    "    for i, industry in enumerate(industries):\n",
    "        industry_data = Sector[Sector['industry'] == industry]\n",
    "        \n",
    "        # Grouping by Year for sum of delivered and op_stock\n",
    "        grouped_delivered = industry_data.groupby('Year')['delivered'].sum()\n",
    "        grouped_op_stock = industry_data.groupby('Year')['op_stock'].sum()\n",
    "    \n",
    "        # Plotting\n",
    "        grouped_delivered.plot(kind='bar', ax=axes[i, 0], title=f'{industry} - Delivered by Year', color = 'grey')\n",
    "        grouped_op_stock.plot(kind='bar', ax=axes[i, 1], title=f'{industry} - Operating Stock by Year', color = 'grey')\n",
    "    \n",
    "    # Adjusting layout\n",
    "    plt.tight_layout()\n",
    "    \n",
    "    # Showing the plots\n",
    "    plt.show()"
   ],
   "metadata": {
    "collapsed": false,
    "ExecuteTime": {
     "end_time": "2024-02-21T20:19:11.411610500Z",
     "start_time": "2024-02-21T20:19:11.407018Z"
    }
   },
   "id": "7da5a28bc019b0e9",
   "execution_count": 2
  },
  {
   "cell_type": "code",
   "outputs": [],
   "source": [
    "def compare(Sector, country1, country2, type):\n",
    "    #Compares sectors\n",
    "    df1 = Sector[Sector['country'] == country1]\n",
    "    df2 = Sector[Sector['country'] == country2]\n",
    "    industries = Sector['industry'].unique()\n",
    "    \n",
    "    # Setting up the figure for multiple plots\n",
    "    num_industries = len(industries)\n",
    "    fig, axes = plt.subplots(nrows=num_industries, ncols=2, figsize=(15, 5 * num_industries))\n",
    "    \n",
    "    # Plotting each industry separately\n",
    "    for i, industry in enumerate(industries):\n",
    "        industry_data1 = df1[df1['industry'] == industry]\n",
    "        industry_data2 = df2[df2['industry'] == industry]\n",
    "        # Grouping by Year for sum of delivered and op_stock\n",
    "        if type == 'op_stock':\n",
    "            grouped_op_stock1 = industry_data1.groupby('Year')['op_stock'].sum()\n",
    "            grouped_op_stock2 = industry_data2.groupby('Year')['op_stock'].sum()\n",
    "            \n",
    "            grouped_op_stock1.plot(kind='bar', ax=axes[i, 0], title=f'{industry} {country1} - Operating Stock by Year', color = 'grey')\n",
    "            grouped_op_stock1.plot(kind='bar', ax=axes[i, 1], title=f'{industry} {country2} - Operating Stock by Year', color = 'grey')\n",
    "            \n",
    "        if type == 'delivered':\n",
    "            grouped_delivered1 = industry_data1.groupby('Year')['delivered'].sum()\n",
    "            grouped_delivered2 = industry_data2.groupby('Year')['delivered'].sum()\n",
    "\n",
    "            grouped_delivered1.plot(kind='bar', ax=axes[i, 0], title=f'{industry} {country1} - Delivered by Year', color = 'grey')\n",
    "            grouped_delivered2.plot(kind='bar', ax=axes[i, 1], title=f'{industry} {country2} - Delivered by Year', color = 'grey')\n",
    "    \n",
    "    # Adjusting layout\n",
    "    plt.tight_layout()\n",
    "    \n",
    "    # Showing the plots\n",
    "    plt.show()"
   ],
   "metadata": {
    "collapsed": false
   },
   "id": "876bacda8c6a9a1"
  },
  {
   "cell_type": "code",
   "outputs": [],
   "source": [
    "def sectors(df, type, country1, country2):\n",
    "    #plots the jobs given the whole data set, either OP_Stock or Delivered, and two countries\n",
    "    Job1 = df[df['country'] == country1]\n",
    "    Job2 = df[df['country'] == country2]\n",
    "    Occupation = df['application'].unique()\n",
    "    \n",
    "    # Setting up the figure for multiple plots\n",
    "    num_occ = len(Occupation)\n",
    "    fig, axes = plt.subplots(nrows=num_occ, ncols=2, figsize=(15, 5 * num_occ))\n",
    "    \n",
    "    # Plotting each country separately\n",
    "    for i, j in enumerate(Occupation):\n",
    "        industry_data1 = Job1[Job1['application'] == j]\n",
    "        industry_data2 = Job2[Job2['application'] == j]\n",
    "        # Grouping by Year for sum of delivered and op_stock\n",
    "        if type == 'delivered':\n",
    "            grouped_delivered1 = industry_data1.groupby('Year')['delivered'].sum()\n",
    "            \n",
    "            grouped_delivered2 = industry_data2.groupby('Year')['delivered'].sum() \n",
    "            grouped_delivered1.plot(kind='bar',ax=axes[i, 0], title=f'{j}{country1} - Delivered by Year')\n",
    "            grouped_delivered1.plot(kind='bar',ax=axes[i, 1], title=f'{j}{country2} - Delivered by Year')\n",
    "\n",
    "        if type == 'op_stock':\n",
    "            grouped_op_stock1 = industry_data1.groupby('Year')['op_stock'].sum()\n",
    "            grouped_op_stock2 = industry_data2.groupby('Year')['op_stock'].sum()\n",
    "            grouped_op_stock1.plot(kind='bar',ax=axes[i, 0], title=f'{j}{country1} - Operating Stock by Year')\n",
    "            grouped_op_stock2.plot(kind='bar',ax=axes[i, 1], title=f'{j}{country2} - Operating Stock by Year')\n",
    "\n",
    "        \n",
    "    # Adjusting layout\n",
    "    plt.tight_layout()\n",
    "    \n",
    "    # Showing the plots\n",
    "    plt.show()"
   ],
   "metadata": {
    "collapsed": false
   },
   "id": "d25f3636ec448f1"
  },
  {
   "cell_type": "code",
   "outputs": [],
   "source": [
    "def countries2(df_x, country1, country2, country3, country4):\n",
    "    #plots the jobs given the whole data set, either OP_Stock or Delivered, and two countries\n",
    "    df = df_x[df_x['industry'] == 'All Industries']\n",
    "    Job1 = df[df['country'] == country1]\n",
    "    Job2 = df[df['country'] == country2]\n",
    "    Job3 = df[df['country'] == country3]\n",
    "    Job4 = df[df['country'] == country4]\n",
    "    \n",
    "    \n",
    "    # Setting up the figure for multiple plots\n",
    "    num_occ = 1\n",
    "    fig, axes = plt.subplots(nrows=num_occ, ncols=2)#, figsize=(15, 5 * num_occ))\n",
    "  \n",
    "    grouped_delivered1 = Job1.groupby('Year')['delivered'].sum()\n",
    "    grouped_delivered2 = Job2.groupby('Year')['delivered'].sum() \n",
    "    grouped_delivered3 = Job3.groupby('Year')['delivered'].sum()\n",
    "    grouped_delivered4 = Job4.groupby('Year')['delivered'].sum()\n",
    "    \n",
    "    grouped_delivered1.plot(kind='bar',ax=axes[0, 0], title=f'{country1} - Delivered by Year', color = 'grey')\n",
    "    grouped_delivered2.plot(kind='bar',ax=axes[0, 0], title=f'{country2} - Delivered by Year', color = 'blue')\n",
    "    grouped_delivered3.plot(kind='bar',ax=axes[0, 0], title=f'{country3} - Delivered by Year', color = 'red')\n",
    "    grouped_delivered4.plot(kind='bar',ax=axes[0, 0], title=f'{country4} - Delivered by Year', color = 'orange')\n",
    "\n",
    "        \n",
    "    grouped_op_stock1 = Job1.groupby('Year')['op_stock'].sum()\n",
    "    grouped_op_stock2 = Job2.groupby('Year')['op_stock'].sum()\n",
    "    grouped_op_stock3 = Job3.groupby('Year')['op_stock'].sum()\n",
    "    grouped_op_stock4 = Job4.groupby('Year')['op_stock'].sum()\n",
    "    grouped_op_stock1.plot(kind='bar',ax=axes[0, 1], title=f'{country1} - Operating Stock by Year', color = 'grey')\n",
    "    grouped_op_stock2.plot(kind='bar',ax=axes[0, 1], title=f'{country2} - Operating Stock by Year', color = 'blue')\n",
    "    grouped_op_stock3.plot(kind='bar',ax=axes[0, 1], title=f'{country3} - Operating Stock by Year', color = 'red')\n",
    "    grouped_op_stock4.plot(kind='bar',ax=axes[0, 1], title=f'{country4} - Operating Stock by Year', color = 'orange')\n",
    "\n",
    "        \n",
    "    # Adjusting layout\n",
    "    plt.tight_layout()\n",
    "    \n",
    "    # Showing the plots\n",
    "    plt.show()"
   ],
   "metadata": {
    "collapsed": false,
    "ExecuteTime": {
     "end_time": "2024-04-07T00:52:53.969512500Z",
     "start_time": "2024-04-07T00:52:53.955957600Z"
    }
   },
   "id": "f6575443c08d6223",
   "execution_count": 2
  },
  {
   "cell_type": "code",
   "outputs": [],
   "source": [
    "def countries(df_x, country1, country2, country3, country4):\n",
    "    # Filter the dataframe for 'All Industries' only\n",
    "    df = df_x[df_x['industry'] == 'All Industries']\n",
    "    \n",
    "    # Filter data for each country\n",
    "    Job1 = df[df['country'] == country1]\n",
    "    Job2 = df[df['country'] == country2]\n",
    "    Job3 = df[df['country'] == country3]\n",
    "    Job4 = df[df['country'] == country4]\n",
    "    # Setting up the figure for multiple plots\n",
    "    fig, axes = plt.subplots(nrows=1, ncols=2, figsize=(15, 5))\n",
    "    \n",
    "    # For 'delivered'\n",
    "    df_delivered = pd.concat([\n",
    "        Job1.groupby('Year')['delivered'].sum().rename(country1),\n",
    "        Job2.groupby('Year')['delivered'].sum().rename(country2),\n",
    "        Job3.groupby('Year')['delivered'].sum().rename(country3),\n",
    "        Job4.groupby('Year')['delivered'].sum().rename(country4)], axis=1)\n",
    "    df_delivered.plot(kind='bar', ax=axes[0], title='Delivered by Year')\n",
    "    \n",
    "    # For 'op_stock'\n",
    "    df_op_stock = pd.concat([\n",
    "        Job1.groupby('Year')['op_stock'].sum().rename(country1),\n",
    "        Job2.groupby('Year')['op_stock'].sum().rename(country2),\n",
    "        Job3.groupby('Year')['op_stock'].sum().rename(country3),\n",
    "        Job4.groupby('Year')['op_stock'].sum().rename(country4)], axis=1)\n",
    "    df_op_stock.plot(kind='bar', ax=axes[1], title='Operating Stock by Year')\n",
    "    \n",
    "    # Adjusting layout and showing the plots\n",
    "    plt.tight_layout()\n",
    "    plt.show()"
   ],
   "metadata": {
    "collapsed": false
   },
   "id": "83c0b55aeb98f68a"
  }
 ],
 "metadata": {
  "kernelspec": {
   "display_name": "Python 3",
   "language": "python",
   "name": "python3"
  },
  "language_info": {
   "codemirror_mode": {
    "name": "ipython",
    "version": 2
   },
   "file_extension": ".py",
   "mimetype": "text/x-python",
   "name": "python",
   "nbconvert_exporter": "python",
   "pygments_lexer": "ipython2",
   "version": "2.7.6"
  }
 },
 "nbformat": 4,
 "nbformat_minor": 5
}
