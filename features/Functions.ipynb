{
 "cells": [
  {
   "cell_type": "code",
   "outputs": [],
   "source": [
    "import pandas as pd"
   ],
   "metadata": {
    "collapsed": false
   },
   "id": "9babdf833b35c382"
  },
  {
   "cell_type": "code",
   "outputs": [],
   "source": [
    "def normalize2(df):\n",
    "    date, unit = df.columns.to_list()\n",
    "    income_series = df[unit]\n",
    "\n",
    "    normalized_series = income_series / income_series.iloc[0]\n",
    "\n",
    "    normalized_series = (normalized_series.pct_change().fillna(0) + 1).cumprod()\n",
    "    normalized_data = pd.DataFrame({\n",
    "    'date': df[date],\n",
    "    unit: normalized_series})\n",
    "\n",
    "    return normalized_data"
   ],
   "metadata": {
    "collapsed": true
   },
   "id": "initial_id",
   "execution_count": 0
  },
  {
   "cell_type": "code",
   "outputs": [],
   "source": [
    "def normalize(df):\n",
    "    date, unit = df.columns.to_list()\n",
    "    income_series = df[unit].astype(float) \n",
    "\n",
    "    # Normalize the first value to 1\n",
    "    normalized_series = income_series / income_series.iloc[0]\n",
    "\n",
    "    normalized_series = (normalized_series.pct_change().fillna(0) + 1).cumprod()\n",
    "\n",
    "    normalized_series = normalized_series.infer_objects()\n",
    "\n",
    "    normalized_data = pd.DataFrame({\n",
    "        'date': df[date],\n",
    "        unit: normalized_series\n",
    "    })\n",
    "\n",
    "    return normalized_data"
   ],
   "metadata": {
    "collapsed": false
   },
   "id": "dd3cedc428388371"
  },
  {
   "cell_type": "code",
   "outputs": [],
   "source": [
    "def clean_fred(df, unit = \"UNIT\"):\n",
    "    df.columns= ['Date', unit]\n",
    "    df.dropna(subset=[unit], inplace=True)\n",
    "\n",
    "    df = df.reset_index(drop=True)\n",
    "\n",
    "    df = df.iloc[2:]\n",
    "    df = df.reset_index(drop=True)\n",
    "    \n",
    "\n",
    "    df['Date'] = pd.to_datetime(df['Date'])\n",
    "    df = df[(df['Date'].dt.year >= 2004) & (df['Date'].dt.year <= 2017)]\n",
    "    df = df.groupby(df['Date'].dt.year)[unit].mean().reset_index()\n",
    "    return df"
   ],
   "metadata": {
    "collapsed": false,
    "ExecuteTime": {
     "end_time": "2024-03-24T17:42:43.013793900Z",
     "start_time": "2024-03-24T17:42:43.001256900Z"
    }
   },
   "id": "aa04b3eaf8281810",
   "execution_count": 2
  },
  {
   "cell_type": "code",
   "outputs": [],
   "source": [
    "def pct_chg(df):\n",
    "    date, unit = df.columns.to_list()\n",
    "    x = df[unit].pct_change()\n",
    "    pct = pd.DataFrame({'Pct_Chg': x})\n",
    "    #pct.dropna(subset=['Pct_Chg'], inplace=True)\n",
    "    #pct.reset_index(drop=True)\n",
    "    return pct"
   ],
   "metadata": {
    "collapsed": false
   },
   "id": "d71aa73c68c9de9b"
  },
  {
   "cell_type": "code",
   "outputs": [],
   "source": [
    "def company_specific(df, unit):\n",
    "    x = df.sort_values(by='Year', ascending=True)\n",
    "    x = normalize(x[['Year', unit]]).copy()\n",
    "    x = x[x['date'] >= 2009]\n",
    "   # x = x[x['date'] <= 2017]\n",
    "    x = x.reset_index(drop=True)\n",
    "    return x"
   ],
   "metadata": {
    "collapsed": false,
    "ExecuteTime": {
     "end_time": "2024-02-28T16:43:25.681522400Z",
     "start_time": "2024-02-28T16:43:25.659348300Z"
    }
   },
   "id": "ff77deae7ace6c94",
   "execution_count": 1
  },
  {
   "cell_type": "code",
   "outputs": [],
   "source": [],
   "metadata": {
    "collapsed": false
   },
   "id": "bd1db88ecc3d2185"
  }
 ],
 "metadata": {
  "kernelspec": {
   "display_name": "Python 3",
   "language": "python",
   "name": "python3"
  },
  "language_info": {
   "codemirror_mode": {
    "name": "ipython",
    "version": 2
   },
   "file_extension": ".py",
   "mimetype": "text/x-python",
   "name": "python",
   "nbconvert_exporter": "python",
   "pygments_lexer": "ipython2",
   "version": "2.7.6"
  }
 },
 "nbformat": 4,
 "nbformat_minor": 5
}
